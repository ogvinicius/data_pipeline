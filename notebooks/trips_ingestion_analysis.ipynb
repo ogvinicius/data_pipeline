{
 "cells": [
  {
   "cell_type": "code",
   "execution_count": 1,
   "id": "170e5936-c7d2-408f-a422-24228e54607f",
   "metadata": {},
   "outputs": [],
   "source": [
    "import psycopg2"
   ]
  },
  {
   "cell_type": "code",
   "execution_count": 2,
   "id": "33f78f4f-98d0-482a-af32-a50dcdc4266d",
   "metadata": {},
   "outputs": [],
   "source": [
    "class DataBaseManager:\n",
    "    def __init__(self, host, database_name, database_user, database_password):\n",
    "        self.host = host\n",
    "        self.database_name = database_name\n",
    "        self.database_user = database_user\n",
    "        self.database_password = database_password\n",
    "\n",
    "    def _state_connection(self):\n",
    "        conn = None\n",
    "        try:\n",
    "            print('Connecting to the PostgreSQL database...')\n",
    "            conn = psycopg2.connect(\n",
    "                host=self.host,\n",
    "                database=self.database_name,\n",
    "                user=self.database_user,\n",
    "                password=self.database_password)\n",
    "    \n",
    "        except (Exception, psycopg2.DatabaseError) as error:\n",
    "            print(error)\n",
    "\n",
    "        finally:\n",
    "            if conn is not None:\n",
    "                return conn\n",
    "                print('Connection successfuly stablished')\n",
    "        \n",
    "    def import_data(self, file_path, target_table):\n",
    "        \n",
    "        conn = self._state_connection()\n",
    "        \n",
    "        cur = conn.cursor()\n",
    "        \n",
    "        with open(file_path, 'r') as f:\n",
    "            next(f)\n",
    "            cur.copy_from(f, target_table, sep=',')\n",
    "\n",
    "        conn.commit()\n",
    "        print(\"Data Successfuly loaded.\")\n",
    "       \n",
    "        conn.close()\n",
    "        print('Database connection closed.')\n",
    "        \n",
    "    def execute_query(self, query, expects_return=False):\n",
    "        \n",
    "        conn = self._state_connection()\n",
    "        \n",
    "        cur = conn.cursor()\n",
    "        \n",
    "        cur.execute(query)\n",
    "\n",
    "        conn.commit()\n",
    "        print(\"Query successfuly ran.\")\n",
    "        \n",
    "        try:\n",
    "            results = cur.fetchall()\n",
    "            print('Results fetched')\n",
    "            conn.close()\n",
    "            print('Database connection closed.')\n",
    "            return results\n",
    "        except:\n",
    "            conn.close()\n",
    "            print('Database connection closed.')\n",
    "            pass"
   ]
  },
  {
   "cell_type": "code",
   "execution_count": 3,
   "id": "e031f6db-9f5a-45c4-8404-610a50b2ba49",
   "metadata": {},
   "outputs": [
    {
     "name": "stdout",
     "output_type": "stream",
     "text": [
      "Connecting to the PostgreSQL database...\n",
      "Data Successfuly loaded.\n",
      "Database connection closed.\n"
     ]
    }
   ],
   "source": [
    "# Ingesting the raw data\n",
    "\n",
    "db_manager = DataBaseManager('postgres', 'postgres', 'postgres', 'postgres')\n",
    "db_manager.import_data('trips.csv', 'raw_trips')"
   ]
  },
  {
   "cell_type": "code",
   "execution_count": 4,
   "id": "d51a866b-99f0-46ec-af65-8af65312a528",
   "metadata": {},
   "outputs": [
    {
     "name": "stdout",
     "output_type": "stream",
     "text": [
      "Connecting to the PostgreSQL database...\n",
      "Query successfuly ran.\n",
      "Database connection closed.\n"
     ]
    }
   ],
   "source": [
    "# Performing the transformations\n",
    "db_manager = DataBaseManager('postgres', 'postgres', 'postgres', 'postgres')\n",
    "\n",
    "query = \"\"\"\n",
    "    INSERT INTO public.trips\n",
    "    select \n",
    "        region,\n",
    "        cast(replace(replace(raw_trips.origin_coord, 'POINT (', '('), ' ', ', ') as point) as origin_coord,\n",
    "        cast(replace(replace(raw_trips.destination_coord, 'POINT (', '('), ' ', ', ') as point) as destination_coord,\n",
    "        date(datetime) as trip_date,\n",
    "        date_trunc('hour', datetime) as trip_datetime,\n",
    "        datasource\n",
    "\n",
    "    from raw_trips;\n",
    "\"\"\"\n",
    "\n",
    "db_manager.execute_query(query)"
   ]
  },
  {
   "cell_type": "code",
   "execution_count": 5,
   "id": "30489b95-ead7-44e0-88ce-8aa9ee914139",
   "metadata": {},
   "outputs": [
    {
     "name": "stdout",
     "output_type": "stream",
     "text": [
      "Connecting to the PostgreSQL database...\n",
      "Query successfuly ran.\n",
      "Database connection closed.\n"
     ]
    }
   ],
   "source": [
    "# Refreshing the materizlied views without compromising the usage from dashboards\n",
    "db_manager = DataBaseManager('postgres', 'postgres', 'postgres', 'postgres')\n",
    "\n",
    "query = \"\"\"\n",
    "    REFRESH MATERIALIZED VIEW CONCURRENTLY dim_date;\n",
    "\"\"\"\n",
    "\n",
    "db_manager.execute_query(query)"
   ]
  },
  {
   "cell_type": "code",
   "execution_count": 6,
   "id": "14b31803-8ede-4abf-965d-56b450733eeb",
   "metadata": {},
   "outputs": [
    {
     "name": "stdout",
     "output_type": "stream",
     "text": [
      "Connecting to the PostgreSQL database...\n",
      "Query successfuly ran.\n",
      "Results fetched\n",
      "Database connection closed.\n",
      "[('Hamburg                                           ', 5)]\n"
     ]
    }
   ],
   "source": [
    "# Getting the weekly average number of trips by region\n",
    "db_manager = DataBaseManager('postgres', 'postgres', 'postgres', 'postgres')\n",
    "\n",
    "region = 'Hamburg'\n",
    "\n",
    "weekly_avg_trips = f\"\"\"\n",
    "    select\n",
    "        max(trips.region) as region,\n",
    "        count(calendar.week)/count(distinct calendar.week) as weekly_avg\n",
    "    from trips as trips\n",
    "    join dim_date as calendar\n",
    "        on calendar.date = trips.trip_date\n",
    "    group by region\n",
    "    having region = '{region}'\n",
    "\"\"\"\n",
    "\n",
    "results = db_manager.execute_query(weekly_avg_trips)\n",
    "\n",
    "print(results)"
   ]
  }
 ],
 "metadata": {
  "kernelspec": {
   "display_name": "Python 3 (ipykernel)",
   "language": "python",
   "name": "python3"
  },
  "language_info": {
   "codemirror_mode": {
    "name": "ipython",
    "version": 3
   },
   "file_extension": ".py",
   "mimetype": "text/x-python",
   "name": "python",
   "nbconvert_exporter": "python",
   "pygments_lexer": "ipython3",
   "version": "3.8.12"
  }
 },
 "nbformat": 4,
 "nbformat_minor": 5
}
